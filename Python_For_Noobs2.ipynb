{
  "nbformat": 4,
  "nbformat_minor": 0,
  "metadata": {
    "colab": {
      "name": "Python For Noobs2.ipynb",
      "provenance": [],
      "collapsed_sections": []
    },
    "kernelspec": {
      "name": "python3",
      "display_name": "Python 3"
    },
    "language_info": {
      "name": "python"
    }
  },
  "cells": [
    {
      "cell_type": "markdown",
      "metadata": {
        "id": "SsrjFyMIXiXK"
      },
      "source": [
        "# Python for Noobs 🙂\n",
        "\n",
        "---\n",
        "## This notebook is gonna show you the syntax of Python, the easiest languange of ALL time 🐍\n",
        "\n",
        "## If you want to run the Notebook,\n",
        "## Downlad Python_for_Noobs2.ipynb from my GitHub Repo:\n",
        "### *https://github.com/maxwellau/PyADSTutorials*\n",
        "## Upload the .ipynb file into your Google Drive and open it with:\n",
        "### *https://research.google.com/colaboratory/*\n"
      ]
    },
    {
      "cell_type": "markdown",
      "metadata": {
        "id": "_jaG-PtOXqWz"
      },
      "source": [
        "# Variables and datatypes 🍠\n",
        "\n",
        "---\n",
        "\n",
        "## Boolean 🥦\n",
        "## String 🧣\n",
        "## Integer 🕤\n",
        "## Float 🍽\n",
        "## Lists/ Arrays 🥌\n",
        "\n",
        "## Other Custom Data Types (Data Class/Struct) 🍸 (not covered)"
      ]
    },
    {
      "cell_type": "code",
      "metadata": {
        "id": "B4Bb6L-BYnfL"
      },
      "source": [
        "#Examples of data types\n",
        "\n",
        "#--BOOLEAN--\n",
        "example_boolean1 = True\n",
        "example_boolean2 = False\n",
        "\n",
        "#--String--\n",
        "exmaple_string1 = \"poopooman\"\n",
        "exmaple_string2 = \"\" #empty string\n",
        "\n",
        "#--Integer--\n",
        "example_integer1 = 123\n",
        "example_integer2 = 0\n",
        "\n",
        "#--Float--\n",
        "example_float1 = 123.0\n",
        "example_float2 = 2345.23\n",
        "\n",
        "#--Lists/Arrays--\n",
        "list_1 = [1,2,3,4,5] #list of integers\n",
        "list_2 = [\"cat\", \"dog\", \"mouse\", \"hyena\"] #list of strings\n",
        "list_3 = [True, False, True] #list of booleans"
      ],
      "execution_count": 14,
      "outputs": []
    },
    {
      "cell_type": "markdown",
      "metadata": {
        "id": "f-fEz3EpZXJI"
      },
      "source": [
        "# Conditionals 🚒\n",
        "---\n",
        "### IF - ELSE 🔥\n",
        "### IF - ELIF - ELSE 👿\n",
        "### Unconditional Bypass 😵\n",
        "# KEY 🔑\n",
        "### Conditional statements, and code blocks in general require *PROPER* indentations\n",
        "## In Structured text, an *IF* statement is written with END statements:\n",
        "![image.png](data:image/png;base64,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)\n",
        "\n",
        "## In C-Sharp, an *IF* statement is written with curly braces {} to denote codeblocks:\n",
        "\n",
        "![image.png](data:image/png;base64,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)\n",
        "\n",
        "# 🐍 In python, we use indentation blocks (usually with the 📑tab button) to denote seperate codedblocks. Refer to the codeblocks below!\n",
        "\n",
        "# 📓 Take note of how the code that depends on the conditional is on the **SAME INDENT!**\n",
        "\n",
        "\n",
        "# ❔ Excercise for reader : Play around with the declared Variables in the previous cell, what do you notice when you compare Booleans and Strings? 🤔"
      ]
    },
    {
      "cell_type": "code",
      "metadata": {
        "colab": {
          "base_uri": "https://localhost:8080/",
          "height": 0
        },
        "id": "C7tX0zO1aUod",
        "outputId": "ccd62678-a3e9-4da6-d150-efafd762ad41"
      },
      "source": [
        "#Examples of conditional statements using previously declared data\n",
        "#--Classic If-Else--\n",
        "print(\"===================\\nClassic If-Else Statement\\n\")\n",
        "if example_integer1 == example_integer2:\n",
        "  print(\"Its the same!!~\")\n",
        "else: print(\"It ain't the same\") #you can do this too!\n",
        "\n",
        "#--If-Elif-Else--\n",
        "print(\"===================\\nIf-Elif-Else Statement\\n\")\n",
        "if example_integer1 == example_integer2:\n",
        "  print(\"Its the same!!~\")\n",
        "elif type(example_integer1) == type(example_integer2):\n",
        "  print(\"BUT they have the same data type!~\")\n",
        "else:\n",
        "  print(\"It ain't the same\")\n",
        "\n",
        "#--Unconditional Bypass--\n",
        "print(\"===================\\nUnConditional Bypass\\n\")\n",
        "if True:\n",
        "  print(\"No matter what, I will always be TRUE!\")\n"
      ],
      "execution_count": 12,
      "outputs": [
        {
          "output_type": "stream",
          "name": "stdout",
          "text": [
            "===================\n",
            "Classic If-Else Statement\n",
            "\n",
            "It ain't the same\n",
            "===================\n",
            "If-Elif-Else Statement\n",
            "\n",
            "BUT they have the same data type!~\n",
            "===================\n",
            "UnConditional Bypass\n",
            "\n",
            "No matter what, I will always be TRUE!\n"
          ]
        }
      ]
    },
    {
      "cell_type": "markdown",
      "metadata": {
        "id": "GpOc6RuUbcjP"
      },
      "source": [
        "# Loops ⭕⭕\n",
        "---\n",
        "### WHILE LOOP ⚡\n",
        "### FOR LOOP ⏯\n",
        "### INFINITE LOOP 😵\n",
        "# KEY 🔑\n",
        "### Loops, similar to IF statements, require *PROPER* indentations"
      ]
    },
    {
      "cell_type": "code",
      "metadata": {
        "colab": {
          "base_uri": "https://localhost:8080/",
          "height": 0
        },
        "id": "jHDB-TKossa3",
        "outputId": "51583beb-005a-43e1-bd33-864acd890df2"
      },
      "source": [
        "#Examples of loop statements using previously declared lists\n",
        "\n",
        "#--While loop to iterate through list--\n",
        "print(\"===================\\nIteration with While Loop\\n\")\n",
        "i = 0 #initialising integer\n",
        "while i < len(list_1): #whereby len(list_1) returns the number of elements in list_1\n",
        "  print(list_1[i])\n",
        "  i+=1\n",
        "\n",
        "#--For loop to iterate through list--\n",
        "print(\"===================\\nIteration with For Loop\\n\")\n",
        "for i in list_2:\n",
        "  print(i)\n",
        "\n",
        "#--Infinite Loop(Commented out to prevent overloading)--\n",
        "print(\"===================\\nInfinite Loop\\n\")\n",
        "# while True:\n",
        "#   print(\"running!\")"
      ],
      "execution_count": 11,
      "outputs": [
        {
          "output_type": "stream",
          "name": "stdout",
          "text": [
            "===================\n",
            "Iteration with While Loop\n",
            "\n",
            "1\n",
            "2\n",
            "3\n",
            "4\n",
            "5\n",
            "===================\n",
            "Iteration with For Loop\n",
            "\n",
            "cat\n",
            "dog\n",
            "mouse\n",
            "hyena\n",
            "===================\n",
            "Infinite Loop\n",
            "\n"
          ]
        }
      ]
    },
    {
      "cell_type": "markdown",
      "metadata": {
        "id": "aCRC8PjrNlgW"
      },
      "source": [
        "# Functions ⛲\n",
        "---\n",
        "### Parameterless Methods ⚡\n",
        "### Parameterized Methods ⛽\n",
        "# KEY 🔑\n",
        "### Functions, similar to IF statements, require *PROPER* indentations\n",
        "### We do not need to declare the returned data type as python inteprets it for us!\n",
        "### This is in ✨**contrast**✨ to Structured Text or Csharp, here's a code simple **addition function example!**\n",
        "\n",
        "# In Csharp 🦈\n",
        "![image.png](data:image/png;base64,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)\n",
        "\n",
        "# In Structured Text 🚧\n",
        "![image.png](data:image/png;base64,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)"
      ]
    },
    {
      "cell_type": "code",
      "metadata": {
        "colab": {
          "base_uri": "https://localhost:8080/",
          "height": 0
        },
        "id": "IwH7ti27RYhR",
        "outputId": "d036518a-ffe6-47b3-fdb4-84b1c60a2a7f"
      },
      "source": [
        "#Examples of method in Python\n",
        "\n",
        "#--Parameterless Method--\n",
        "print(\"===================\\nThe no_params method takes in NO parameters and just prints out 'I love Chicken Rice!'\\n\")\n",
        "def no_params():\n",
        "  print('I love Chicken Rice!')\n",
        "\n",
        "#--Parameterized Functions--\n",
        "print(\"===================\\nThe with_params method takes ONE parameter and prints out what you like to eat!\\n\")\n",
        "def with_params(food):\n",
        "  print(f'I love eating {food}')\n",
        "\n",
        "#--Parameterized Functions WITH Return--\n",
        "print(\"===================\\nThe addition method takes 2 parameters and returns the sum of those 2\\n\")\n",
        "def addition(a,b):\n",
        "  return a+b"
      ],
      "execution_count": 18,
      "outputs": [
        {
          "output_type": "stream",
          "name": "stdout",
          "text": [
            "===================\n",
            "The no_params method takes in NO parameters and just prints out 'I love Chicken Rice!'\n",
            "\n",
            "===================\n",
            "The with_params method takes ONE parameter and prints out what you like to eat!\n",
            "\n",
            "===================\n",
            "The addition method takes 2 parameters and returns the sum of those 2\n",
            "\n"
          ]
        }
      ]
    },
    {
      "cell_type": "markdown",
      "metadata": {
        "id": "WxyS20esTjU3"
      },
      "source": [
        "# ✨✨✨ TRY IT OUT ✨✨✨"
      ]
    },
    {
      "cell_type": "code",
      "metadata": {
        "colab": {
          "base_uri": "https://localhost:8080/",
          "height": 0
        },
        "id": "q8mrHbTdSpVS",
        "outputId": "346f8988-7753-451b-cb68-b29650c424a1"
      },
      "source": [
        "#How to RUN a method in Python\n",
        "\n",
        "#--Parameterless Method--\n",
        "print(\"===================\\nThis parameterless method takes in NO parameters and just prints out 'I love Chicken Rice!'\\n\")\n",
        "no_params()\n",
        "\n",
        "#--Parameterized Functions--\n",
        "print(\"===================\\nThis parameterized method takes ONE parameter and prints out what you like to eat!\\n\")\n",
        "with_params(food = \"Cookies\")\n",
        "\n",
        "#--Parameterized Functions WITH Return--\n",
        "print(\"===================\\nThis parameterized method takes 2 parameters and returns the sum of those 2\\n\")\n",
        "result = addition(1,2); print(result)"
      ],
      "execution_count": 19,
      "outputs": [
        {
          "output_type": "stream",
          "name": "stdout",
          "text": [
            "===================\n",
            "This parameterless method takes in NO parameters and just prints out 'I love Chicken Rice!'\n",
            "\n",
            "I love Chicken Rice!\n",
            "===================\n",
            "This parameterized method takes ONE parameter and prints out what you like to eat!\n",
            "\n",
            "I love eating Cookies\n",
            "===================\n",
            "This parameterized method takes 2 parameters and returns the sum of those 2\n",
            "\n",
            "3\n"
          ]
        }
      ]
    },
    {
      "cell_type": "markdown",
      "metadata": {
        "id": "WCs_zYBF7B2k"
      },
      "source": [
        "# ❓ Excercise for Reader:\n",
        "\n",
        "---\n",
        "\n",
        "# Question 1:\n",
        "## ❓Given an Array of integers, **[3, 5, 2, 723, 4, 7, 8, 16]**, make 2 new arrays that contain even and odd integers respectively. Finally, print those out!\n",
        "\n",
        "## It is given that you can make 2 empty arrays, and can add elements using the function:\n",
        "# **ListName.append(newItem)**\n",
        "#### *For Example, givenArray = [1,2,3]; givenArray.append(4); outputs [1,2,3,4]*"
      ]
    },
    {
      "cell_type": "code",
      "metadata": {
        "id": "nYt9EAg9MFgN"
      },
      "source": [
        "givenArray = [3, 5, 2, 723, 4, 7, 8, 16]\n",
        "oddArray = []\n",
        "evenArray = []"
      ],
      "execution_count": null,
      "outputs": []
    },
    {
      "cell_type": "markdown",
      "metadata": {
        "id": "l47SADyFUcrO"
      },
      "source": [
        "\n",
        "# Question 2:\n",
        "## ❓Create a Function/Method *(same thing...)* that takes in 3 parameters:\n",
        "\n",
        "\n",
        "1.   favourite food\n",
        "2.   favourite drink\n",
        "3.   favourite pastime\n",
        "4.   time you sleep\n",
        "\n",
        "## Then return the string and print it out!\n",
        "#### Example Output: **\"I love to eat Icon幼面，I like drinking Bubble Tea, I like to Dance, I sleep at 3\"**\n",
        "\n"
      ]
    },
    {
      "cell_type": "code",
      "metadata": {
        "id": "tLacvYymWI5L"
      },
      "source": [
        "def alibaba(food, drink, pasttime, sleeptime):\n",
        "  #solution here\n",
        "  return\n",
        "solution = alibaba(PARAMS)\n",
        "print(solution)"
      ],
      "execution_count": null,
      "outputs": []
    },
    {
      "cell_type": "markdown",
      "metadata": {
        "id": "Bi4Fjp06MbWq"
      },
      "source": [
        "# 🥵🥵🥵🥵🥵🥵 **SOLUTION!!!!!!!!** 🥵🥵🥵🥵🥵🥵\n",
        "\n",
        "\n",
        "---\n",
        "\n"
      ]
    },
    {
      "cell_type": "code",
      "metadata": {
        "colab": {
          "base_uri": "https://localhost:8080/",
          "height": 0
        },
        "id": "yhzTWjh6Mgje",
        "outputId": "14d25d08-a43c-490c-b780-0826dfa568ca"
      },
      "source": [
        "#Solution for Question 1\n",
        "\n",
        "givenArray = [3, 5, 2, 723, 4, 7, 8, 16]\n",
        "oddArray = []\n",
        "evenArray = []\n",
        "for i in givenArray:\n",
        "  if i%2 == 0:\n",
        "    evenArray.append(i)\n",
        "  else:\n",
        "    oddArray.append(i)\n",
        "print(f\"oddArray is {oddArray}\")\n",
        "print(f\"evenArray is {evenArray}\")"
      ],
      "execution_count": 15,
      "outputs": [
        {
          "output_type": "stream",
          "name": "stdout",
          "text": [
            "oddArray is [3, 5, 723, 7]\n",
            "evenArray is [2, 4, 8, 16]\n"
          ]
        }
      ]
    },
    {
      "cell_type": "code",
      "metadata": {
        "colab": {
          "base_uri": "https://localhost:8080/",
          "height": 0
        },
        "id": "UsLT3RoIM9S5",
        "outputId": "cd1ab29d-8d2b-45aa-9ff1-1af4c0b5ae0f"
      },
      "source": [
        "#Solution for Question 2\n",
        "def alibaba(food, drink, pasttime, sleeptime):\n",
        "  taobao = f\"I love to eat {food}, I like drinking {drink}, I like to {pasttime}, I sleep at {sleeptime}\"\n",
        "  return taobao\n",
        "answer = alibaba(food = \"Icon幼面\", drink = \"Bubble Tea\", pasttime = \"Dance\", sleeptime = 3)\n",
        "print(answer)"
      ],
      "execution_count": 23,
      "outputs": [
        {
          "output_type": "stream",
          "name": "stdout",
          "text": [
            "I love to eat Icon幼面, I like drinking Bubble Tea, I like to Dance, I sleep at 3\n"
          ]
        }
      ]
    },
    {
      "cell_type": "markdown",
      "metadata": {
        "id": "oG2hlScDWyYx"
      },
      "source": [
        "\n",
        "\n",
        "---\n",
        "# THE END\n",
        "# ✌ Thanks for reading! ✌\n",
        "\n"
      ]
    }
  ]
}